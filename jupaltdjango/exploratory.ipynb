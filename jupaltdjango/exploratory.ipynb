{
 "cells": [
  {
   "cell_type": "code",
   "execution_count": 4,
   "metadata": {},
   "outputs": [],
   "source": [
    "import os\n",
    "import django\n",
    "import altair as alt\n",
    "os.environ.setdefault('DJANGO_SETTINGS_MODULE', 'jupaltdjango.settings')\n",
    "from django.conf import settings\n",
    "django.setup()\n"
   ]
  },
  {
   "cell_type": "code",
   "execution_count": 5,
   "metadata": {},
   "outputs": [],
   "source": [
    "from charts.models import Solution"
   ]
  },
  {
   "cell_type": "code",
   "execution_count": 6,
   "metadata": {},
   "outputs": [],
   "source": [
    "data = alt.Data(values=list(\n",
    "        Solution.objects.all().values()\n",
    "    )\n",
    ")"
   ]
  },
  {
   "cell_type": "code",
   "execution_count": 10,
   "metadata": {},
   "outputs": [
    {
     "data": {
      "text/plain": [
       "\u001b[0;31mType:\u001b[0m        Data\n",
       "\u001b[0;31mString form:\u001b[0m\n",
       "Data({\n",
       "           values: [{'id': 2, 'rank': '1', 'solution': 'Refrigerant Management', 'sector': 'Materia <...> sector': 'Buildings and Cities', 'co2_reduction': 'N/A', 'net_cost': 'N/A', 'savings': 'N/A'}]\n",
       "           })\n",
       "\u001b[0;31mFile:\u001b[0m        ~/.virtualenvs/jup-alt-django-Qnn7Bc7a/lib/python3.6/site-packages/altair/vegalite/v2/schema/core.py\n",
       "\u001b[0;31mDocstring:\u001b[0m  \n",
       "Data schema wrapper\n",
       "\n",
       "anyOf(:class:`UrlData`, :class:`InlineData`, :class:`NamedData`)\n"
      ]
     },
     "metadata": {},
     "output_type": "display_data"
    }
   ],
   "source": [
    "data?"
   ]
  },
  {
   "cell_type": "code",
   "execution_count": 14,
   "metadata": {},
   "outputs": [
    {
     "data": {
      "application/vnd.vegalite.v2+json": {
       "$schema": "https://vega.github.io/schema/vega-lite/v2.6.0.json",
       "config": {
        "view": {
         "height": 300,
         "width": 400
        }
       },
       "data": {
        "values": [
         {
          "co2_reduction": "89.74",
          "id": 2,
          "net_cost": "N/A",
          "rank": "1",
          "savings": "$-902.77",
          "sector": "Materials",
          "solution": "Refrigerant Management"
         },
         {
          "co2_reduction": "84.60",
          "id": 3,
          "net_cost": "$1,225.37",
          "rank": "2",
          "savings": "$7,425.00",
          "sector": "Electricity Generation",
          "solution": "Wind Turbines (Onshore)"
         },
         {
          "co2_reduction": "70.53",
          "id": 4,
          "net_cost": "N/A",
          "rank": "3",
          "savings": "N/A",
          "sector": "Food",
          "solution": "Reduced Food Waste"
         },
         {
          "co2_reduction": "66.11",
          "id": 5,
          "net_cost": "N/A",
          "rank": "4",
          "savings": "N/A",
          "sector": "Food",
          "solution": "Plant-Rich Diet"
         },
         {
          "co2_reduction": "61.23",
          "id": 6,
          "net_cost": "N/A",
          "rank": "5",
          "savings": "N/A",
          "sector": "Land Use",
          "solution": "Tropical Forests"
         },
         {
          "co2_reduction": "59.60",
          "id": 7,
          "net_cost": "N/A",
          "rank": "6",
          "savings": "N/A",
          "sector": "Women and Girls",
          "solution": "Educating Girls"
         },
         {
          "co2_reduction": "59.60",
          "id": 8,
          "net_cost": "N/A",
          "rank": "7",
          "savings": "N/A",
          "sector": "Women and Girls",
          "solution": "Family Planning"
         },
         {
          "co2_reduction": "36.90",
          "id": 9,
          "net_cost": "$-80.60",
          "rank": "8",
          "savings": "$5,023.84",
          "sector": "Electricity Generation",
          "solution": "Solar Farms"
         },
         {
          "co2_reduction": "31.19",
          "id": 10,
          "net_cost": "$41.59",
          "rank": "9",
          "savings": "$699.37",
          "sector": "Food",
          "solution": "Silvopasture"
         },
         {
          "co2_reduction": "24.60",
          "id": 11,
          "net_cost": "$453.14",
          "rank": "10",
          "savings": "$3,457.63",
          "sector": "Electricity Generation",
          "solution": "Rooftop Solar"
         },
         {
          "co2_reduction": "23.15",
          "id": 12,
          "net_cost": "$57.22",
          "rank": "11",
          "savings": "$1,928.10",
          "sector": "Food",
          "solution": "Regenerative Agriculture"
         },
         {
          "co2_reduction": "22.61",
          "id": 13,
          "net_cost": "N/A",
          "rank": "12",
          "savings": "N/A",
          "sector": "Land Use",
          "solution": "Temperate Forests"
         },
         {
          "co2_reduction": "21.57",
          "id": 14,
          "net_cost": "N/A",
          "rank": "13",
          "savings": "N/A",
          "sector": "Land Use",
          "solution": "Peatlands"
         },
         {
          "co2_reduction": "20.19",
          "id": 15,
          "net_cost": "$120.07",
          "rank": "14",
          "savings": "$626.97",
          "sector": "Food",
          "solution": "Tropical Staple Trees"
         },
         {
          "co2_reduction": "18.06",
          "id": 16,
          "net_cost": "$29.44",
          "rank": "15",
          "savings": "$392.33",
          "sector": "Land Use",
          "solution": "Afforestation"
         },
         {
          "co2_reduction": "17.35",
          "id": 17,
          "net_cost": "$37.53",
          "rank": "16",
          "savings": "$2,119.07",
          "sector": "Food",
          "solution": "Conservation Agriculture"
         },
         {
          "co2_reduction": "17.20",
          "id": 18,
          "net_cost": "$146.99",
          "rank": "17",
          "savings": "$22.10",
          "sector": "Food",
          "solution": "Tree Intercropping"
         },
         {
          "co2_reduction": "16.60",
          "id": 19,
          "net_cost": "$-155.48",
          "rank": "18",
          "savings": "$1,024.34",
          "sector": "Electricity Generation",
          "solution": "Geothermal"
         },
         {
          "co2_reduction": "16.34",
          "id": 20,
          "net_cost": "$50.48",
          "rank": "19",
          "savings": "$735.27",
          "sector": "Food",
          "solution": "Managed Grazing"
         },
         {
          "co2_reduction": "16.09",
          "id": 21,
          "net_cost": "$0.88",
          "rank": "20",
          "savings": "$1,713.40",
          "sector": "Electricity Generation",
          "solution": "Nuclear"
         },
         {
          "co2_reduction": "15.81",
          "id": 22,
          "net_cost": "$72.16",
          "rank": "21",
          "savings": "$166.28",
          "sector": "Food",
          "solution": "Clean Cookstoves"
         },
         {
          "co2_reduction": "14.10",
          "id": 23,
          "net_cost": "$545.30",
          "rank": "22",
          "savings": "$762.50",
          "sector": "Electricity Generation",
          "solution": "Wind Turbines (Offshore)"
         },
         {
          "co2_reduction": "14.08",
          "id": 24,
          "net_cost": "$72.24",
          "rank": "23",
          "savings": "$1,342.47",
          "sector": "Food",
          "solution": "Farmland Restoration"
         },
         {
          "co2_reduction": "11.34",
          "id": 25,
          "net_cost": "N/A",
          "rank": "24",
          "savings": "$519.06",
          "sector": "Food",
          "solution": "Improved Rice Cultivation"
         },
         {
          "co2_reduction": "10.90",
          "id": 26,
          "net_cost": "$1,319.70",
          "rank": "25",
          "savings": "$413.85",
          "sector": "Electricity Generation",
          "solution": "Concentrated Solar"
         },
         {
          "co2_reduction": "10.80",
          "id": 27,
          "net_cost": "$14,148.00",
          "rank": "26",
          "savings": "$9,726.40",
          "sector": "Transport",
          "solution": "Electric Vehicles"
         },
         {
          "co2_reduction": "9.38",
          "id": 28,
          "net_cost": "$457.10",
          "rank": "27",
          "savings": "$3,543.50",
          "sector": "Buildings and Cities",
          "solution": "District Heating"
         },
         {
          "co2_reduction": "9.28",
          "id": 29,
          "net_cost": "$26.76",
          "rank": "28",
          "savings": "$709.75",
          "sector": "Food",
          "solution": "Multistrata Agroforestry"
         },
         {
          "co2_reduction": "9.20",
          "id": 30,
          "net_cost": "$411.84",
          "rank": "29",
          "savings": "$-1,004.70",
          "sector": "Electricity Generation",
          "solution": "Wave and Tidal"
         },
         {
          "co2_reduction": "8.40",
          "id": 31,
          "net_cost": "$201.41",
          "rank": "30",
          "savings": "$148.83",
          "sector": "Electricity Generation",
          "solution": "Methane Digesters (Large)"
         },
         {
          "co2_reduction": "8.27",
          "id": 32,
          "net_cost": "$3,655.92",
          "rank": "31",
          "savings": "$2,513.33",
          "sector": "Buildings and Cities",
          "solution": "Insulation"
         },
         {
          "co2_reduction": "7.87",
          "id": 33,
          "net_cost": "$915.93",
          "rank": "32",
          "savings": "$424.38",
          "sector": "Transport",
          "solution": "Ships"
         },
         {
          "co2_reduction": "7.81",
          "id": 34,
          "net_cost": "$323.52",
          "rank": "33",
          "savings": "$1,729.54",
          "sector": "Buildings and Cities",
          "solution": "LED Lighting (Household)"
         },
         {
          "co2_reduction": "7.50",
          "id": 35,
          "net_cost": "$402.31",
          "rank": "34",
          "savings": "$519.35",
          "sector": "Electricity Generation",
          "solution": "Biomass"
         },
         {
          "co2_reduction": "7.22",
          "id": 36,
          "net_cost": "$23.79",
          "rank": "35",
          "savings": "$264.80",
          "sector": "Land Use",
          "solution": "Bamboo"
         },
         {
          "co2_reduction": "6.69",
          "id": 37,
          "net_cost": "$-273.90",
          "rank": "36",
          "savings": "N/A",
          "sector": "Materials",
          "solution": "Alternative Cement"
         },
         {
          "co2_reduction": "6.57",
          "id": 38,
          "net_cost": "N/A",
          "rank": "37",
          "savings": "$2,379.73",
          "sector": "Transport",
          "solution": "Mass Transit"
         },
         {
          "co2_reduction": "6.20",
          "id": 39,
          "net_cost": "N/A",
          "rank": "38",
          "savings": "N/A",
          "sector": "Land Use",
          "solution": "Forest Protection"
         },
         {
          "co2_reduction": "6.19",
          "id": 40,
          "net_cost": "N/A",
          "rank": "39",
          "savings": "N/A",
          "sector": "Land Use",
          "solution": "Indigenous Peoples’ Land Management"
         },
         {
          "co2_reduction": "6.18",
          "id": 41,
          "net_cost": "$543.54",
          "rank": "40",
          "savings": "$2,781.63",
          "sector": "Transport",
          "solution": "Trucks"
         },
         {
          "co2_reduction": "6.08",
          "id": 42,
          "net_cost": "$2.99",
          "rank": "41",
          "savings": "$773.65",
          "sector": "Electricity Generation",
          "solution": "Solar Water"
         },
         {
          "co2_reduction": "5.20",
          "id": 43,
          "net_cost": "$118.71",
          "rank": "42",
          "savings": "$1,546.66",
          "sector": "Buildings and Cities",
          "solution": "Heat Pumps"
         },
         {
          "co2_reduction": "5.05",
          "id": 44,
          "net_cost": "$662.42",
          "rank": "43",
          "savings": "$3,187.80",
          "sector": "Transport",
          "solution": "Airplanes"
         },
         {
          "co2_reduction": "5.04",
          "id": 45,
          "net_cost": "$-205.05",
          "rank": "44",
          "savings": "$1,089.63",
          "sector": "Buildings and Cities",
          "solution": "LED Lighting (Commercial)"
         },
         {
          "co2_reduction": "4.62",
          "id": 46,
          "net_cost": "$68.12",
          "rank": "45",
          "savings": "$880.55",
          "sector": "Buildings and Cities",
          "solution": "Building Automation"
         },
         {
          "co2_reduction": "4.61",
          "id": 47,
          "net_cost": "$72.44",
          "rank": "46",
          "savings": "$1,800.12",
          "sector": "Materials",
          "solution": "Water Saving - Home"
         },
         {
          "co2_reduction": "4.30",
          "id": 48,
          "net_cost": "$19.15",
          "rank": "47",
          "savings": "N/A",
          "sector": "Materials",
          "solution": "Bioplastic"
         },
         {
          "co2_reduction": "4.00",
          "id": 49,
          "net_cost": "$202.53",
          "rank": "48",
          "savings": "$568.36",
          "sector": "Electricity Generation",
          "solution": "In-Stream Hydro"
         },
         {
          "co2_reduction": "4.00",
          "id": 50,
          "net_cost": "$-598.69",
          "rank": "49",
          "savings": "$1,761.72",
          "sector": "Transport",
          "solution": "Cars"
         },
         {
          "co2_reduction": "3.97",
          "id": 51,
          "net_cost": "$279.25",
          "rank": "50",
          "savings": "$566.93",
          "sector": "Electricity Generation",
          "solution": "Cogeneration"
         },
         {
          "co2_reduction": "3.33",
          "id": 52,
          "net_cost": "$77.94",
          "rank": "51",
          "savings": "$541.89",
          "sector": "Land Use",
          "solution": "Perennial Biomass"
         },
         {
          "co2_reduction": "3.19",
          "id": 53,
          "net_cost": "N/A",
          "rank": "52",
          "savings": "N/A",
          "sector": "Land Use",
          "solution": "Coastal Wetlands"
         },
         {
          "co2_reduction": "3.13",
          "id": 54,
          "net_cost": "N/A",
          "rank": "53",
          "savings": "$677.83",
          "sector": "Food",
          "solution": "System of Rice Intensification"
         },
         {
          "co2_reduction": "2.92",
          "id": 55,
          "net_cost": "N/A",
          "rank": "54",
          "savings": "$3,278.24",
          "sector": "Buildings and Cities",
          "solution": "Walkable Cities"
         },
         {
          "co2_reduction": "2.77",
          "id": 56,
          "net_cost": "$366.92",
          "rank": "55",
          "savings": "$71.13",
          "sector": "Materials",
          "solution": "Household Recycling"
         },
         {
          "co2_reduction": "2.77",
          "id": 57,
          "net_cost": "$366.92",
          "rank": "56",
          "savings": "$71.13",
          "sector": "Materials",
          "solution": "Industrial Recycling"
         },
         {
          "co2_reduction": "2.62",
          "id": 58,
          "net_cost": "$74.16",
          "rank": "57",
          "savings": "$640.10",
          "sector": "Buildings and Cities",
          "solution": "Smart Thermostats"
         },
         {
          "co2_reduction": "2.50",
          "id": 59,
          "net_cost": "$-1.82",
          "rank": "58",
          "savings": "$67.57",
          "sector": "Buildings and Cities",
          "solution": "Landfill Methane"
         },
         {
          "co2_reduction": "2.31",
          "id": 60,
          "net_cost": "$-2,026.97",
          "rank": "59",
          "savings": "$400.47",
          "sector": "Buildings and Cities",
          "solution": "Bike Infrastructure"
         },
         {
          "co2_reduction": "2.28",
          "id": 61,
          "net_cost": "$-63.72",
          "rank": "60",
          "savings": "$-60.82",
          "sector": "Food",
          "solution": "Composting"
         },
         {
          "co2_reduction": "2.19",
          "id": 62,
          "net_cost": "$932.30",
          "rank": "61",
          "savings": "$325.10",
          "sector": "Buildings and Cities",
          "solution": "Smart Glass"
         },
         {
          "co2_reduction": "2.06",
          "id": 63,
          "net_cost": "N/A",
          "rank": "62",
          "savings": "$87.60",
          "sector": "Women and Girls",
          "solution": "Women Smallholders"
         },
         {
          "co2_reduction": "1.99",
          "id": 64,
          "net_cost": "$127.72",
          "rank": "63",
          "savings": "$1,310.59",
          "sector": "Transport",
          "solution": "Telepresence"
         },
         {
          "co2_reduction": "1.90",
          "id": 65,
          "net_cost": "$15.50",
          "rank": "64",
          "savings": "$13.90",
          "sector": "Electricity Generation",
          "solution": "Methane Digesters (Small)"
         },
         {
          "co2_reduction": "1.81",
          "id": 66,
          "net_cost": "N/A",
          "rank": "65",
          "savings": "$102.32",
          "sector": "Food",
          "solution": "Nutrient Management"
         },
         {
          "co2_reduction": "1.52",
          "id": 67,
          "net_cost": "$1,038.42",
          "rank": "66",
          "savings": "$368.10",
          "sector": "Transport",
          "solution": "High-speed Rail"
         },
         {
          "co2_reduction": "1.33",
          "id": 68,
          "net_cost": "$216.16",
          "rank": "67",
          "savings": "$429.67",
          "sector": "Food",
          "solution": "Farmland Irrigation"
         },
         {
          "co2_reduction": "1.10",
          "id": 69,
          "net_cost": "$36.00",
          "rank": "68",
          "savings": "$19.82",
          "sector": "Electricity Generation",
          "solution": "Waste-to-Energy"
         },
         {
          "co2_reduction": "0.96",
          "id": 70,
          "net_cost": "$106.75",
          "rank": "69",
          "savings": "$226.07",
          "sector": "Transport",
          "solution": "Electric Bikes"
         },
         {
          "co2_reduction": "0.90",
          "id": 71,
          "net_cost": "$573.48",
          "rank": "70",
          "savings": "N/A",
          "sector": "Materials",
          "solution": "Recycled Paper"
         },
         {
          "co2_reduction": "0.87",
          "id": 72,
          "net_cost": "$137.37",
          "rank": "71",
          "savings": "$903.11",
          "sector": "Buildings and Cities",
          "solution": "Water Distribution"
         },
         {
          "co2_reduction": "0.81",
          "id": 73,
          "net_cost": "N/A",
          "rank": "72",
          "savings": "N/A",
          "sector": "Food",
          "solution": "Biochar"
         },
         {
          "co2_reduction": "0.77",
          "id": 74,
          "net_cost": "$1,393.29",
          "rank": "73",
          "savings": "$988.46",
          "sector": "Buildings and Cities",
          "solution": "Green Roofs"
         },
         {
          "co2_reduction": "0.52",
          "id": 75,
          "net_cost": "$808.64",
          "rank": "74",
          "savings": "$313.86",
          "sector": "Transport",
          "solution": "Trains"
         },
         {
          "co2_reduction": "0.32",
          "id": 76,
          "net_cost": "N/A",
          "rank": "75",
          "savings": "$185.56",
          "sector": "Transport",
          "solution": "Ridesharing"
         },
         {
          "co2_reduction": "0.20",
          "id": 77,
          "net_cost": "$36.12",
          "rank": "76",
          "savings": "$19.90",
          "sector": "Electricity Generation",
          "solution": "Micro Wind"
         },
         {
          "co2_reduction": "N/A",
          "id": 78,
          "net_cost": "N/A",
          "rank": "77",
          "savings": "N/A",
          "sector": "Electricity Generation",
          "solution": "Energy Storage (Distributed)"
         },
         {
          "co2_reduction": "N/A",
          "id": 79,
          "net_cost": "N/A",
          "rank": "77",
          "savings": "N/A",
          "sector": "Electricity Generation",
          "solution": "Energy Storage (Utilities)"
         },
         {
          "co2_reduction": "N/A",
          "id": 80,
          "net_cost": "N/A",
          "rank": "77",
          "savings": "N/A",
          "sector": "Electricity Generation",
          "solution": "Grid Flexibility"
         },
         {
          "co2_reduction": "N/A",
          "id": 81,
          "net_cost": "N/A",
          "rank": "78",
          "savings": "N/A",
          "sector": "Electricity Generation",
          "solution": "Microgrids"
         },
         {
          "co2_reduction": "N/A",
          "id": 82,
          "net_cost": "N/A",
          "rank": "79",
          "savings": "N/A",
          "sector": "Buildings and Cities",
          "solution": "Net Zero Buildings"
         },
         {
          "co2_reduction": "N/A",
          "id": 83,
          "net_cost": "N/A",
          "rank": "80",
          "savings": "N/A",
          "sector": "Buildings and Cities",
          "solution": "Retrofitting"
         }
        ]
       },
       "encoding": {
        "color": {
         "field": "solution",
         "legend": null,
         "scale": {
          "scheme": "greenblue"
         },
         "type": "nominal"
        },
        "tooltip": [
         {
          "field": "solution",
          "type": "nominal"
         },
         {
          "field": "co2_reduction",
          "type": "quantitative"
         }
        ],
        "x": {
         "field": "co2_reduction",
         "type": "quantitative"
        },
        "y": {
         "field": "sector",
         "type": "nominal"
        }
       },
       "mark": "bar"
      },
      "image/png": "[encoded data removed]",
      "text/plain": [
       "<VegaLite 2 object>\n",
       "\n",
       "If you see this message, it means the renderer has not been properly enabled\n",
       "for the frontend that you are using. For more information, see\n",
       "https://altair-viz.github.io/user_guide/troubleshooting.html\n"
      ]
     },
     "execution_count": 14,
     "metadata": {},
     "output_type": "execute_result"
    }
   ],
   "source": [
    "cool_chart = alt.Chart(data).mark_bar().encode(\n",
    "    alt.Y(\"sector:N\"),\n",
    "    alt.X('co2_reduction:Q'),\n",
    "    alt.Color(\"solution:N\",\n",
    "        legend=None,\n",
    "        scale=alt.Scale(scheme='greenblue')\n",
    "    ),\n",
    "    tooltip=[\"solution:N\", 'co2_reduction:Q']\n",
    ")\n",
    "cool_chart"
   ]
  },
  {
   "cell_type": "markdown",
   "metadata": {},
   "source": [
    "Now, lets see what this looks like as JSON"
   ]
  },
  {
   "cell_type": "code",
   "execution_count": 13,
   "metadata": {},
   "outputs": [],
   "source": [
    "from IPython.display import JSON"
   ]
  },
  {
   "cell_type": "code",
   "execution_count": 16,
   "metadata": {},
   "outputs": [
    {
     "data": {
      "application/json": {
       "$schema": "https://vega.github.io/schema/vega-lite/v2.6.0.json",
       "config": {
        "view": {
         "height": 300,
         "width": 400
        }
       },
       "data": {
        "values": [
         {
          "co2_reduction": "89.74",
          "id": 2,
          "net_cost": "N/A",
          "rank": "1",
          "savings": "$-902.77",
          "sector": "Materials",
          "solution": "Refrigerant Management"
         },
         {
          "co2_reduction": "84.60",
          "id": 3,
          "net_cost": "$1,225.37",
          "rank": "2",
          "savings": "$7,425.00",
          "sector": "Electricity Generation",
          "solution": "Wind Turbines (Onshore)"
         },
         {
          "co2_reduction": "70.53",
          "id": 4,
          "net_cost": "N/A",
          "rank": "3",
          "savings": "N/A",
          "sector": "Food",
          "solution": "Reduced Food Waste"
         },
         {
          "co2_reduction": "66.11",
          "id": 5,
          "net_cost": "N/A",
          "rank": "4",
          "savings": "N/A",
          "sector": "Food",
          "solution": "Plant-Rich Diet"
         },
         {
          "co2_reduction": "61.23",
          "id": 6,
          "net_cost": "N/A",
          "rank": "5",
          "savings": "N/A",
          "sector": "Land Use",
          "solution": "Tropical Forests"
         },
         {
          "co2_reduction": "59.60",
          "id": 7,
          "net_cost": "N/A",
          "rank": "6",
          "savings": "N/A",
          "sector": "Women and Girls",
          "solution": "Educating Girls"
         },
         {
          "co2_reduction": "59.60",
          "id": 8,
          "net_cost": "N/A",
          "rank": "7",
          "savings": "N/A",
          "sector": "Women and Girls",
          "solution": "Family Planning"
         },
         {
          "co2_reduction": "36.90",
          "id": 9,
          "net_cost": "$-80.60",
          "rank": "8",
          "savings": "$5,023.84",
          "sector": "Electricity Generation",
          "solution": "Solar Farms"
         },
         {
          "co2_reduction": "31.19",
          "id": 10,
          "net_cost": "$41.59",
          "rank": "9",
          "savings": "$699.37",
          "sector": "Food",
          "solution": "Silvopasture"
         },
         {
          "co2_reduction": "24.60",
          "id": 11,
          "net_cost": "$453.14",
          "rank": "10",
          "savings": "$3,457.63",
          "sector": "Electricity Generation",
          "solution": "Rooftop Solar"
         },
         {
          "co2_reduction": "23.15",
          "id": 12,
          "net_cost": "$57.22",
          "rank": "11",
          "savings": "$1,928.10",
          "sector": "Food",
          "solution": "Regenerative Agriculture"
         },
         {
          "co2_reduction": "22.61",
          "id": 13,
          "net_cost": "N/A",
          "rank": "12",
          "savings": "N/A",
          "sector": "Land Use",
          "solution": "Temperate Forests"
         },
         {
          "co2_reduction": "21.57",
          "id": 14,
          "net_cost": "N/A",
          "rank": "13",
          "savings": "N/A",
          "sector": "Land Use",
          "solution": "Peatlands"
         },
         {
          "co2_reduction": "20.19",
          "id": 15,
          "net_cost": "$120.07",
          "rank": "14",
          "savings": "$626.97",
          "sector": "Food",
          "solution": "Tropical Staple Trees"
         },
         {
          "co2_reduction": "18.06",
          "id": 16,
          "net_cost": "$29.44",
          "rank": "15",
          "savings": "$392.33",
          "sector": "Land Use",
          "solution": "Afforestation"
         },
         {
          "co2_reduction": "17.35",
          "id": 17,
          "net_cost": "$37.53",
          "rank": "16",
          "savings": "$2,119.07",
          "sector": "Food",
          "solution": "Conservation Agriculture"
         },
         {
          "co2_reduction": "17.20",
          "id": 18,
          "net_cost": "$146.99",
          "rank": "17",
          "savings": "$22.10",
          "sector": "Food",
          "solution": "Tree Intercropping"
         },
         {
          "co2_reduction": "16.60",
          "id": 19,
          "net_cost": "$-155.48",
          "rank": "18",
          "savings": "$1,024.34",
          "sector": "Electricity Generation",
          "solution": "Geothermal"
         },
         {
          "co2_reduction": "16.34",
          "id": 20,
          "net_cost": "$50.48",
          "rank": "19",
          "savings": "$735.27",
          "sector": "Food",
          "solution": "Managed Grazing"
         },
         {
          "co2_reduction": "16.09",
          "id": 21,
          "net_cost": "$0.88",
          "rank": "20",
          "savings": "$1,713.40",
          "sector": "Electricity Generation",
          "solution": "Nuclear"
         },
         {
          "co2_reduction": "15.81",
          "id": 22,
          "net_cost": "$72.16",
          "rank": "21",
          "savings": "$166.28",
          "sector": "Food",
          "solution": "Clean Cookstoves"
         },
         {
          "co2_reduction": "14.10",
          "id": 23,
          "net_cost": "$545.30",
          "rank": "22",
          "savings": "$762.50",
          "sector": "Electricity Generation",
          "solution": "Wind Turbines (Offshore)"
         },
         {
          "co2_reduction": "14.08",
          "id": 24,
          "net_cost": "$72.24",
          "rank": "23",
          "savings": "$1,342.47",
          "sector": "Food",
          "solution": "Farmland Restoration"
         },
         {
          "co2_reduction": "11.34",
          "id": 25,
          "net_cost": "N/A",
          "rank": "24",
          "savings": "$519.06",
          "sector": "Food",
          "solution": "Improved Rice Cultivation"
         },
         {
          "co2_reduction": "10.90",
          "id": 26,
          "net_cost": "$1,319.70",
          "rank": "25",
          "savings": "$413.85",
          "sector": "Electricity Generation",
          "solution": "Concentrated Solar"
         },
         {
          "co2_reduction": "10.80",
          "id": 27,
          "net_cost": "$14,148.00",
          "rank": "26",
          "savings": "$9,726.40",
          "sector": "Transport",
          "solution": "Electric Vehicles"
         },
         {
          "co2_reduction": "9.38",
          "id": 28,
          "net_cost": "$457.10",
          "rank": "27",
          "savings": "$3,543.50",
          "sector": "Buildings and Cities",
          "solution": "District Heating"
         },
         {
          "co2_reduction": "9.28",
          "id": 29,
          "net_cost": "$26.76",
          "rank": "28",
          "savings": "$709.75",
          "sector": "Food",
          "solution": "Multistrata Agroforestry"
         },
         {
          "co2_reduction": "9.20",
          "id": 30,
          "net_cost": "$411.84",
          "rank": "29",
          "savings": "$-1,004.70",
          "sector": "Electricity Generation",
          "solution": "Wave and Tidal"
         },
         {
          "co2_reduction": "8.40",
          "id": 31,
          "net_cost": "$201.41",
          "rank": "30",
          "savings": "$148.83",
          "sector": "Electricity Generation",
          "solution": "Methane Digesters (Large)"
         },
         {
          "co2_reduction": "8.27",
          "id": 32,
          "net_cost": "$3,655.92",
          "rank": "31",
          "savings": "$2,513.33",
          "sector": "Buildings and Cities",
          "solution": "Insulation"
         },
         {
          "co2_reduction": "7.87",
          "id": 33,
          "net_cost": "$915.93",
          "rank": "32",
          "savings": "$424.38",
          "sector": "Transport",
          "solution": "Ships"
         },
         {
          "co2_reduction": "7.81",
          "id": 34,
          "net_cost": "$323.52",
          "rank": "33",
          "savings": "$1,729.54",
          "sector": "Buildings and Cities",
          "solution": "LED Lighting (Household)"
         },
         {
          "co2_reduction": "7.50",
          "id": 35,
          "net_cost": "$402.31",
          "rank": "34",
          "savings": "$519.35",
          "sector": "Electricity Generation",
          "solution": "Biomass"
         },
         {
          "co2_reduction": "7.22",
          "id": 36,
          "net_cost": "$23.79",
          "rank": "35",
          "savings": "$264.80",
          "sector": "Land Use",
          "solution": "Bamboo"
         },
         {
          "co2_reduction": "6.69",
          "id": 37,
          "net_cost": "$-273.90",
          "rank": "36",
          "savings": "N/A",
          "sector": "Materials",
          "solution": "Alternative Cement"
         },
         {
          "co2_reduction": "6.57",
          "id": 38,
          "net_cost": "N/A",
          "rank": "37",
          "savings": "$2,379.73",
          "sector": "Transport",
          "solution": "Mass Transit"
         },
         {
          "co2_reduction": "6.20",
          "id": 39,
          "net_cost": "N/A",
          "rank": "38",
          "savings": "N/A",
          "sector": "Land Use",
          "solution": "Forest Protection"
         },
         {
          "co2_reduction": "6.19",
          "id": 40,
          "net_cost": "N/A",
          "rank": "39",
          "savings": "N/A",
          "sector": "Land Use",
          "solution": "Indigenous Peoples’ Land Management"
         },
         {
          "co2_reduction": "6.18",
          "id": 41,
          "net_cost": "$543.54",
          "rank": "40",
          "savings": "$2,781.63",
          "sector": "Transport",
          "solution": "Trucks"
         },
         {
          "co2_reduction": "6.08",
          "id": 42,
          "net_cost": "$2.99",
          "rank": "41",
          "savings": "$773.65",
          "sector": "Electricity Generation",
          "solution": "Solar Water"
         },
         {
          "co2_reduction": "5.20",
          "id": 43,
          "net_cost": "$118.71",
          "rank": "42",
          "savings": "$1,546.66",
          "sector": "Buildings and Cities",
          "solution": "Heat Pumps"
         },
         {
          "co2_reduction": "5.05",
          "id": 44,
          "net_cost": "$662.42",
          "rank": "43",
          "savings": "$3,187.80",
          "sector": "Transport",
          "solution": "Airplanes"
         },
         {
          "co2_reduction": "5.04",
          "id": 45,
          "net_cost": "$-205.05",
          "rank": "44",
          "savings": "$1,089.63",
          "sector": "Buildings and Cities",
          "solution": "LED Lighting (Commercial)"
         },
         {
          "co2_reduction": "4.62",
          "id": 46,
          "net_cost": "$68.12",
          "rank": "45",
          "savings": "$880.55",
          "sector": "Buildings and Cities",
          "solution": "Building Automation"
         },
         {
          "co2_reduction": "4.61",
          "id": 47,
          "net_cost": "$72.44",
          "rank": "46",
          "savings": "$1,800.12",
          "sector": "Materials",
          "solution": "Water Saving - Home"
         },
         {
          "co2_reduction": "4.30",
          "id": 48,
          "net_cost": "$19.15",
          "rank": "47",
          "savings": "N/A",
          "sector": "Materials",
          "solution": "Bioplastic"
         },
         {
          "co2_reduction": "4.00",
          "id": 49,
          "net_cost": "$202.53",
          "rank": "48",
          "savings": "$568.36",
          "sector": "Electricity Generation",
          "solution": "In-Stream Hydro"
         },
         {
          "co2_reduction": "4.00",
          "id": 50,
          "net_cost": "$-598.69",
          "rank": "49",
          "savings": "$1,761.72",
          "sector": "Transport",
          "solution": "Cars"
         },
         {
          "co2_reduction": "3.97",
          "id": 51,
          "net_cost": "$279.25",
          "rank": "50",
          "savings": "$566.93",
          "sector": "Electricity Generation",
          "solution": "Cogeneration"
         },
         {
          "co2_reduction": "3.33",
          "id": 52,
          "net_cost": "$77.94",
          "rank": "51",
          "savings": "$541.89",
          "sector": "Land Use",
          "solution": "Perennial Biomass"
         },
         {
          "co2_reduction": "3.19",
          "id": 53,
          "net_cost": "N/A",
          "rank": "52",
          "savings": "N/A",
          "sector": "Land Use",
          "solution": "Coastal Wetlands"
         },
         {
          "co2_reduction": "3.13",
          "id": 54,
          "net_cost": "N/A",
          "rank": "53",
          "savings": "$677.83",
          "sector": "Food",
          "solution": "System of Rice Intensification"
         },
         {
          "co2_reduction": "2.92",
          "id": 55,
          "net_cost": "N/A",
          "rank": "54",
          "savings": "$3,278.24",
          "sector": "Buildings and Cities",
          "solution": "Walkable Cities"
         },
         {
          "co2_reduction": "2.77",
          "id": 56,
          "net_cost": "$366.92",
          "rank": "55",
          "savings": "$71.13",
          "sector": "Materials",
          "solution": "Household Recycling"
         },
         {
          "co2_reduction": "2.77",
          "id": 57,
          "net_cost": "$366.92",
          "rank": "56",
          "savings": "$71.13",
          "sector": "Materials",
          "solution": "Industrial Recycling"
         },
         {
          "co2_reduction": "2.62",
          "id": 58,
          "net_cost": "$74.16",
          "rank": "57",
          "savings": "$640.10",
          "sector": "Buildings and Cities",
          "solution": "Smart Thermostats"
         },
         {
          "co2_reduction": "2.50",
          "id": 59,
          "net_cost": "$-1.82",
          "rank": "58",
          "savings": "$67.57",
          "sector": "Buildings and Cities",
          "solution": "Landfill Methane"
         },
         {
          "co2_reduction": "2.31",
          "id": 60,
          "net_cost": "$-2,026.97",
          "rank": "59",
          "savings": "$400.47",
          "sector": "Buildings and Cities",
          "solution": "Bike Infrastructure"
         },
         {
          "co2_reduction": "2.28",
          "id": 61,
          "net_cost": "$-63.72",
          "rank": "60",
          "savings": "$-60.82",
          "sector": "Food",
          "solution": "Composting"
         },
         {
          "co2_reduction": "2.19",
          "id": 62,
          "net_cost": "$932.30",
          "rank": "61",
          "savings": "$325.10",
          "sector": "Buildings and Cities",
          "solution": "Smart Glass"
         },
         {
          "co2_reduction": "2.06",
          "id": 63,
          "net_cost": "N/A",
          "rank": "62",
          "savings": "$87.60",
          "sector": "Women and Girls",
          "solution": "Women Smallholders"
         },
         {
          "co2_reduction": "1.99",
          "id": 64,
          "net_cost": "$127.72",
          "rank": "63",
          "savings": "$1,310.59",
          "sector": "Transport",
          "solution": "Telepresence"
         },
         {
          "co2_reduction": "1.90",
          "id": 65,
          "net_cost": "$15.50",
          "rank": "64",
          "savings": "$13.90",
          "sector": "Electricity Generation",
          "solution": "Methane Digesters (Small)"
         },
         {
          "co2_reduction": "1.81",
          "id": 66,
          "net_cost": "N/A",
          "rank": "65",
          "savings": "$102.32",
          "sector": "Food",
          "solution": "Nutrient Management"
         },
         {
          "co2_reduction": "1.52",
          "id": 67,
          "net_cost": "$1,038.42",
          "rank": "66",
          "savings": "$368.10",
          "sector": "Transport",
          "solution": "High-speed Rail"
         },
         {
          "co2_reduction": "1.33",
          "id": 68,
          "net_cost": "$216.16",
          "rank": "67",
          "savings": "$429.67",
          "sector": "Food",
          "solution": "Farmland Irrigation"
         },
         {
          "co2_reduction": "1.10",
          "id": 69,
          "net_cost": "$36.00",
          "rank": "68",
          "savings": "$19.82",
          "sector": "Electricity Generation",
          "solution": "Waste-to-Energy"
         },
         {
          "co2_reduction": "0.96",
          "id": 70,
          "net_cost": "$106.75",
          "rank": "69",
          "savings": "$226.07",
          "sector": "Transport",
          "solution": "Electric Bikes"
         },
         {
          "co2_reduction": "0.90",
          "id": 71,
          "net_cost": "$573.48",
          "rank": "70",
          "savings": "N/A",
          "sector": "Materials",
          "solution": "Recycled Paper"
         },
         {
          "co2_reduction": "0.87",
          "id": 72,
          "net_cost": "$137.37",
          "rank": "71",
          "savings": "$903.11",
          "sector": "Buildings and Cities",
          "solution": "Water Distribution"
         },
         {
          "co2_reduction": "0.81",
          "id": 73,
          "net_cost": "N/A",
          "rank": "72",
          "savings": "N/A",
          "sector": "Food",
          "solution": "Biochar"
         },
         {
          "co2_reduction": "0.77",
          "id": 74,
          "net_cost": "$1,393.29",
          "rank": "73",
          "savings": "$988.46",
          "sector": "Buildings and Cities",
          "solution": "Green Roofs"
         },
         {
          "co2_reduction": "0.52",
          "id": 75,
          "net_cost": "$808.64",
          "rank": "74",
          "savings": "$313.86",
          "sector": "Transport",
          "solution": "Trains"
         },
         {
          "co2_reduction": "0.32",
          "id": 76,
          "net_cost": "N/A",
          "rank": "75",
          "savings": "$185.56",
          "sector": "Transport",
          "solution": "Ridesharing"
         },
         {
          "co2_reduction": "0.20",
          "id": 77,
          "net_cost": "$36.12",
          "rank": "76",
          "savings": "$19.90",
          "sector": "Electricity Generation",
          "solution": "Micro Wind"
         },
         {
          "co2_reduction": "N/A",
          "id": 78,
          "net_cost": "N/A",
          "rank": "77",
          "savings": "N/A",
          "sector": "Electricity Generation",
          "solution": "Energy Storage (Distributed)"
         },
         {
          "co2_reduction": "N/A",
          "id": 79,
          "net_cost": "N/A",
          "rank": "77",
          "savings": "N/A",
          "sector": "Electricity Generation",
          "solution": "Energy Storage (Utilities)"
         },
         {
          "co2_reduction": "N/A",
          "id": 80,
          "net_cost": "N/A",
          "rank": "77",
          "savings": "N/A",
          "sector": "Electricity Generation",
          "solution": "Grid Flexibility"
         },
         {
          "co2_reduction": "N/A",
          "id": 81,
          "net_cost": "N/A",
          "rank": "78",
          "savings": "N/A",
          "sector": "Electricity Generation",
          "solution": "Microgrids"
         },
         {
          "co2_reduction": "N/A",
          "id": 82,
          "net_cost": "N/A",
          "rank": "79",
          "savings": "N/A",
          "sector": "Buildings and Cities",
          "solution": "Net Zero Buildings"
         },
         {
          "co2_reduction": "N/A",
          "id": 83,
          "net_cost": "N/A",
          "rank": "80",
          "savings": "N/A",
          "sector": "Buildings and Cities",
          "solution": "Retrofitting"
         }
        ]
       },
       "encoding": {
        "color": {
         "field": "solution",
         "legend": null,
         "scale": {
          "scheme": "greenblue"
         },
         "type": "nominal"
        },
        "tooltip": [
         {
          "field": "solution",
          "type": "nominal"
         },
         {
          "field": "co2_reduction",
          "type": "quantitative"
         }
        ],
        "x": {
         "field": "co2_reduction",
         "type": "quantitative"
        },
        "y": {
         "field": "sector",
         "type": "nominal"
        }
       },
       "mark": "bar"
      },
      "text/plain": [
       "<IPython.core.display.JSON object>"
      ]
     },
     "execution_count": 16,
     "metadata": {
      "application/json": {
       "expanded": false,
       "root": "root"
      }
     },
     "output_type": "execute_result"
    }
   ],
   "source": [
    "JSON(cool_chart.to_dict())"
   ]
  },
  {
   "cell_type": "code",
   "execution_count": null,
   "metadata": {},
   "outputs": [],
   "source": []
  }
 ],
 "metadata": {
  "kernelspec": {
   "display_name": "Django Shell-Plus",
   "language": "python",
   "name": "django_extensions"
  },
  "language_info": {
   "codemirror_mode": {
    "name": "ipython",
    "version": 3
   },
   "file_extension": ".py",
   "mimetype": "text/x-python",
   "name": "python",
   "nbconvert_exporter": "python",
   "pygments_lexer": "ipython3",
   "version": "3.6.5"
  }
 },
 "nbformat": 4,
 "nbformat_minor": 2
}
